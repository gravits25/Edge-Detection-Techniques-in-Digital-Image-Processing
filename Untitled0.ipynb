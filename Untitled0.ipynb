{
  "nbformat": 4,
  "nbformat_minor": 0,
  "metadata": {
    "colab": {
      "provenance": [],
      "authorship_tag": "ABX9TyNsabIyOkDzFnGhjfMhnzHf",
      "include_colab_link": true
    },
    "kernelspec": {
      "name": "python3",
      "display_name": "Python 3"
    },
    "language_info": {
      "name": "python"
    }
  },
  "cells": [
    {
      "cell_type": "markdown",
      "metadata": {
        "id": "view-in-github",
        "colab_type": "text"
      },
      "source": [
        "<a href=\"https://colab.research.google.com/github/gravits25/Edge-Detection-Techniques-in-Digital-Image-Processing/blob/master/Untitled0.ipynb\" target=\"_parent\"><img src=\"https://colab.research.google.com/assets/colab-badge.svg\" alt=\"Open In Colab\"/></a>"
      ]
    },
    {
      "cell_type": "markdown",
      "source": [],
      "metadata": {
        "id": "VlMfcNctfIwd"
      }
    },
    {
      "cell_type": "code",
      "execution_count": null,
      "metadata": {
        "id": "aBOUbPSTVTQ7"
      },
      "outputs": [],
      "source": [
        "import numpy as np\n",
        "import nltk\n",
        "from nltk.corpus import reuters\n",
        "from sklearn.feature_extraction.text import TfidfVectorizer\n",
        "from sklearn.cluster import KMeans\n",
        "from sklearn import metrics\n",
        "from sklearn.metrics import confusion_matrix\n",
        "from sklearn.preprocessing import MultiLabelBinarizer"
      ]
    },
    {
      "cell_type": "code",
      "source": [
        "# Download the Reuters-21578 dataset\n",
        "nltk.download('reuters')\n"
      ],
      "metadata": {
        "colab": {
          "base_uri": "https://localhost:8080/"
        },
        "id": "WttbhMPwVipA",
        "outputId": "ead812bb-1340-4df6-b37d-1747d02d6891"
      },
      "execution_count": null,
      "outputs": [
        {
          "output_type": "stream",
          "name": "stderr",
          "text": [
            "[nltk_data] Downloading package reuters to /root/nltk_data...\n"
          ]
        },
        {
          "output_type": "execute_result",
          "data": {
            "text/plain": [
              "True"
            ]
          },
          "metadata": {},
          "execution_count": 3
        }
      ]
    },
    {
      "cell_type": "code",
      "source": [
        "document_ids = reuters.fileids()\n",
        "categories = [reuters.categories(doc_id) for doc_id in document_ids]\n"
      ],
      "metadata": {
        "id": "5XahGStNVkTk"
      },
      "execution_count": null,
      "outputs": []
    },
    {
      "cell_type": "code",
      "source": [
        "target_classes = ['acquisitions', 'corn', 'crude', 'earn', 'grain', 'interest', 'money-fx', 'ship', 'trade', 'wheat']"
      ],
      "metadata": {
        "id": "hbGIgEhYVtFr"
      },
      "execution_count": null,
      "outputs": []
    },
    {
      "cell_type": "code",
      "source": [
        "selected_documents = [doc_id for doc_id, doc_cats in zip(document_ids, categories) if set(target_classes).issuperset(doc_cats) and len(doc_cats) == 1]\n",
        "print(len(selected_documents))"
      ],
      "metadata": {
        "colab": {
          "base_uri": "https://localhost:8080/"
        },
        "id": "0lFzwDv1VvQx",
        "outputId": "e8da4524-4455-4789-b7af-8abb71b27ae2"
      },
      "execution_count": null,
      "outputs": [
        {
          "output_type": "stream",
          "name": "stdout",
          "text": [
            "5399\n"
          ]
        }
      ]
    },
    {
      "cell_type": "code",
      "source": [
        "selected_documents = [doc_id for doc_id in selected_documents if len(reuters.categories(doc_id)) == 1]\n",
        "print(len(selected_documents))"
      ],
      "metadata": {
        "id": "pOcYFT9KVwx1",
        "colab": {
          "base_uri": "https://localhost:8080/"
        },
        "outputId": "2649da9b-d10a-4213-b964-e62474d3bdb4"
      },
      "execution_count": null,
      "outputs": [
        {
          "output_type": "stream",
          "name": "stdout",
          "text": [
            "5399\n"
          ]
        }
      ]
    },
    {
      "cell_type": "code",
      "source": [
        "documents = [reuters.raw(doc_id) for doc_id in selected_documents]"
      ],
      "metadata": {
        "id": "O-qNs5s5Vyhp"
      },
      "execution_count": null,
      "outputs": []
    },
    {
      "cell_type": "code",
      "source": [
        "vectorizer = TfidfVectorizer(stop_words='english')\n",
        "X = vectorizer.fit_transform(documents)"
      ],
      "metadata": {
        "id": "3zfkkg0pVz2v"
      },
      "execution_count": null,
      "outputs": []
    },
    {
      "cell_type": "code",
      "source": [
        "kmeans = KMeans(n_clusters=10, random_state=42)\n",
        "clusters = kmeans.fit_predict(X)"
      ],
      "metadata": {
        "colab": {
          "base_uri": "https://localhost:8080/"
        },
        "id": "tpLqK_sSV1fP",
        "outputId": "b712ea27-a887-4fc4-cc67-eac5554e6e30"
      },
      "execution_count": null,
      "outputs": [
        {
          "output_type": "stream",
          "name": "stderr",
          "text": [
            "/usr/local/lib/python3.10/dist-packages/sklearn/cluster/_kmeans.py:870: FutureWarning: The default value of `n_init` will change from 10 to 'auto' in 1.4. Set the value of `n_init` explicitly to suppress the warning\n",
            "  warnings.warn(\n"
          ]
        }
      ]
    },
    {
      "cell_type": "code",
      "source": [
        "mlb = MultiLabelBinarizer(classes=target_classes)\n",
        "labels = mlb.fit_transform([reuters.categories(doc_id) for doc_id in selected_documents])\n"
      ],
      "metadata": {
        "id": "m5Oyw30kV3ko"
      },
      "execution_count": null,
      "outputs": []
    },
    {
      "cell_type": "code",
      "source": [
        "if len(labels) != len(clusters):\n",
        "    raise ValueError(\"Number of samples in true labels and clusters do not match\")\n"
      ],
      "metadata": {
        "id": "8ZThU4BvV5EF"
      },
      "execution_count": null,
      "outputs": []
    },
    {
      "cell_type": "code",
      "source": [
        "def calculate_purity(true_labels, cluster_labels):\n",
        "    contingency_matrix = confusion_matrix(true_labels, cluster_labels)\n",
        "    return np.sum(np.amax(contingency_matrix, axis=0)) / np.sum(contingency_matrix)\n"
      ],
      "metadata": {
        "id": "UGo8oZgF6LFm"
      },
      "execution_count": null,
      "outputs": []
    },
    {
      "cell_type": "code",
      "source": [
        "purity = calculate_purity(labels.argmax(axis=1), clusters)\n",
        "nmi = metrics.normalized_mutual_info_score(labels.argmax(axis=1), clusters)\n",
        "f1 = metrics.f1_score(labels.argmax(axis=1), clusters, average='weighted')\n",
        "ri = metrics.adjusted_rand_score(labels.argmax(axis=1), clusters)\n",
        "conf_matrix = confusion_matrix(labels.argmax(axis=1), clusters)\n"
      ],
      "metadata": {
        "id": "Ls2n4EXB7evh"
      },
      "execution_count": null,
      "outputs": []
    },
    {
      "cell_type": "code",
      "source": [
        "print(f\"Purity: {purity:.4f}\")\n",
        "print(f\"Normalized Mutual Information: {nmi:.4f}\")\n",
        "print(f\"F1 Score: {f1:.4f}\")\n",
        "print(f\"Rand Index: {ri:.4f}\")"
      ],
      "metadata": {
        "colab": {
          "base_uri": "https://localhost:8080/"
        },
        "id": "GIpRM6RZx9du",
        "outputId": "90c90d9f-c328-42bb-e8c6-2110dc89d8b7"
      },
      "execution_count": null,
      "outputs": [
        {
          "output_type": "stream",
          "name": "stdout",
          "text": [
            "Purity: 0.8690\n",
            "Normalized Mutual Information: 0.4187\n",
            "F1 Score: 0.0070\n",
            "Rand Index: 0.1022\n"
          ]
        }
      ]
    },
    {
      "cell_type": "code",
      "source": [
        "print('\\nConfusion Matrix:')\n",
        "print(conf_matrix)"
      ],
      "metadata": {
        "colab": {
          "base_uri": "https://localhost:8080/"
        },
        "id": "jVUgjSAlyHL2",
        "outputId": "f1227297-08f6-4847-b4a5-406384a68d88"
      },
      "execution_count": null,
      "outputs": [
        {
          "output_type": "stream",
          "name": "stdout",
          "text": [
            "\n",
            "Confusion Matrix:\n",
            "[[  0   0   0   0   0   0   0   0   0   0]\n",
            " [  0   0   0   0   0   0   0   0   0   0]\n",
            " [  0   0   0 276   0  98   0   0   0   0]\n",
            " [754 797 503   3 251 439   0   4 725 447]\n",
            " [  0   0   0   0   0  49   2   0   0   0]\n",
            " [  0   0   0   0   0  55   0 217   0   0]\n",
            " [  0   0   0   0   0 197   9 102   0   1]\n",
            " [  0   0   0   0   0 144   0   0   0   0]\n",
            " [  0   0   0   0   0  37 283   0   0   6]\n",
            " [  0   0   0   0   0   0   0   0   0   0]]\n"
          ]
        }
      ]
    },
    {
      "cell_type": "code",
      "source": [
        "for i in range(len(target_classes)):\n",
        "    fp = np.sum(conf_matrix[:, i]) - conf_matrix[i, i]\n",
        "    fn = np.sum(conf_matrix[i, :]) - conf_matrix[i, i]\n",
        "    print(f\"\\nClass: {target_classes[i]}\")\n",
        "    print(f\"False Positives (FP): {fp}\")\n",
        "    print(f\"False Negatives (FN): {fn}\")"
      ],
      "metadata": {
        "colab": {
          "base_uri": "https://localhost:8080/"
        },
        "id": "2H4WpztOyHuk",
        "outputId": "26998980-d62c-4d87-e8ac-5ff8f950a48f"
      },
      "execution_count": null,
      "outputs": [
        {
          "output_type": "stream",
          "name": "stdout",
          "text": [
            "\n",
            "Class: acquisitions\n",
            "False Positives (FP): 754\n",
            "False Negatives (FN): 0\n",
            "\n",
            "Class: corn\n",
            "False Positives (FP): 797\n",
            "False Negatives (FN): 0\n",
            "\n",
            "Class: crude\n",
            "False Positives (FP): 503\n",
            "False Negatives (FN): 374\n",
            "\n",
            "Class: earn\n",
            "False Positives (FP): 276\n",
            "False Negatives (FN): 3920\n",
            "\n",
            "Class: grain\n",
            "False Positives (FP): 251\n",
            "False Negatives (FN): 51\n",
            "\n",
            "Class: interest\n",
            "False Positives (FP): 964\n",
            "False Negatives (FN): 217\n",
            "\n",
            "Class: money-fx\n",
            "False Positives (FP): 285\n",
            "False Negatives (FN): 300\n",
            "\n",
            "Class: ship\n",
            "False Positives (FP): 323\n",
            "False Negatives (FN): 144\n",
            "\n",
            "Class: trade\n",
            "False Positives (FP): 725\n",
            "False Negatives (FN): 326\n",
            "\n",
            "Class: wheat\n",
            "False Positives (FP): 454\n",
            "False Negatives (FN): 0\n"
          ]
        }
      ]
    },
    {
      "cell_type": "code",
      "source": [
        "target_classes = ['crude','grain', 'interest']"
      ],
      "metadata": {
        "id": "U3waKZl_2-83"
      },
      "execution_count": null,
      "outputs": []
    },
    {
      "cell_type": "markdown",
      "source": [
        "LAB 6 B\n"
      ],
      "metadata": {
        "id": "COtOPyZn2dqw"
      }
    },
    {
      "cell_type": "code",
      "source": [
        "selected_documents = [doc_id for doc_id, doc_cats in zip(document_ids, categories) if set(target_classes).issuperset(doc_cats) and len(doc_cats) == 1]"
      ],
      "metadata": {
        "id": "t1xIdNacyJ8D"
      },
      "execution_count": null,
      "outputs": []
    },
    {
      "cell_type": "code",
      "source": [
        "selected_documents = [doc_id for doc_id in selected_documents if len(reuters.categories(doc_id)) == 1]"
      ],
      "metadata": {
        "id": "IYajbEEU2aSQ"
      },
      "execution_count": null,
      "outputs": []
    },
    {
      "cell_type": "code",
      "source": [
        "print(len(selected_documents))"
      ],
      "metadata": {
        "colab": {
          "base_uri": "https://localhost:8080/"
        },
        "id": "ViQsydS-3FnA",
        "outputId": "1722268e-e768-420e-f4b7-2e61dd3df0e7"
      },
      "execution_count": null,
      "outputs": [
        {
          "output_type": "stream",
          "name": "stdout",
          "text": [
            "697\n"
          ]
        }
      ]
    },
    {
      "cell_type": "code",
      "source": [
        "documents = [reuters.raw(doc_id) for doc_id in selected_documents]"
      ],
      "metadata": {
        "id": "bHzfTWmw3J9Z"
      },
      "execution_count": null,
      "outputs": []
    },
    {
      "cell_type": "code",
      "source": [
        "import numpy as np\n",
        "from sklearn.feature_extraction.text import TfidfVectorizer\n",
        "from sklearn.cluster import AgglomerativeClustering\n",
        "from scipy.cluster.hierarchy import dendrogram, linkage, fcluster\n",
        "from sklearn.metrics import adjusted_rand_score\n",
        "from nltk.corpus import reuters\n",
        "from nltk.cluster import gaac\n",
        "\n",
        "# Download the Reuters-21578 dataset\n",
        "# Make sure to download the dataset before running the script\n",
        "# nltk.download('reuters')\n",
        "\n",
        "# Load Reuters documents and categories\n",
        "document_ids = reuters.fileids()\n",
        "categories = [reuters.categories(doc_id) for doc_id in document_ids]\n",
        "\n",
        "# Filter documents based on specified target classes\n",
        "target_classes = ['crude', 'grain', 'interest']\n",
        "selected_documents = [\n",
        "    doc_id for doc_id, doc_cats in zip(document_ids, categories)\n",
        "    if set(target_classes).issuperset(doc_cats) and len(doc_cats) == 1\n",
        "]\n",
        "\n",
        "# Further filter documents to discard those with multiple classes\n",
        "selected_documents = [\n",
        "    doc_id for doc_id in selected_documents\n",
        "    if len(reuters.categories(doc_id)) == 1\n",
        "]\n",
        "\n",
        "# Extract document texts\n",
        "documents = [reuters.raw(doc_id) for doc_id in selected_documents]\n",
        "\n",
        "# Vectorize documents using TF-IDF representation\n",
        "vectorizer = TfidfVectorizer()\n",
        "X = vectorizer.fit_transform(documents)\n",
        "\n",
        "gaac_clusterer = gaac.GAAClusterer(num_clusters=3)\n",
        "gaac_clusters = gaac_clusterer.cluster(X.toarray(), True)\n",
        "\n",
        "# Hierarchical Agglomerative Clustering\n",
        "linkage_matrix = linkage(X.toarray(), method='single')  # Single-link clustering\n",
        "dendrogram_result = dendrogram(linkage_matrix, truncate_mode='lastp', p=2)\n",
        "\n",
        "# Cut dendrogram at the second branch from the top to obtain K=3 clusters\n",
        "k = 3\n",
        "clusters_single_link = fcluster(linkage_matrix, k, criterion='maxclust')\n",
        "\n",
        "# Complete-link clustering\n",
        "linkage_matrix_complete = linkage(X.toarray(), method='complete')\n",
        "clusters_complete_link = fcluster(linkage_matrix_complete, k, criterion='maxclust')\n",
        "dendrogram_result = dendrogram(linkage_matrix_complete, truncate_mode='lastp', p=2)\n",
        "clusters_complete_link = fcluster(linkage_matrix_complete, k, criterion='maxclust')\n",
        "\n",
        "# Ward's Method (centroid) clustering\n",
        "ward_clusters = AgglomerativeClustering(n_clusters=k, affinity='euclidean', linkage='ward').fit_predict(X.toarray())\n",
        "\n",
        "# Ground Truth for computing Rand Index\n",
        "true_labels = [target_classes.index(reuters.categories(doc_id)[0]) for doc_id in selected_documents]\n",
        "\n",
        "# Compute Rand Index for each clustering method\n",
        "rand_index_single_link = adjusted_rand_score(true_labels, clusters_single_link)\n",
        "rand_index_complete_link = adjusted_rand_score(true_labels, clusters_complete_link)\n",
        "rand_index_centroid = adjusted_rand_score(true_labels, ward_clusters)\n",
        "rand_index_gaac = adjusted_rand_score(true_labels, gaac_clusters)\n",
        "\n",
        "# Display the results\n",
        "print(f\"Rand Index for Single-Link Clustering: {rand_index_single_link}\")\n",
        "print(f\"Rand Index for Complete-Link Clustering: {rand_index_complete_link}\")\n",
        "print(f\"Rand Index for Centroid Clustering: {rand_index_centroid}\")\n",
        "print(f\"Rand Index for GAAC Clustering: {rand_index_gaac}\")\n",
        "\n",
        "# Compare and determine the best clustering method based on the Rand Index\n",
        "best_clustering_method = np.argmax([rand_index_single_link, rand_index_complete_link, rand_index_centroid,rand_index_gaac])\n",
        "if best_clustering_method == 0:\n",
        "    print(\"Single-Link Clustering performs the best.\")\n",
        "elif best_clustering_method == 1:\n",
        "    print(\"Complete-Link Clustering performs the best.\")\n",
        "elif best_clustering_method == 2:\n",
        "    print(\"Centroid Clustering performs the best.\")\n",
        "else:\n",
        "    print(\"GAAC Clustering performs the best.\")\n"
      ],
      "metadata": {
        "colab": {
          "base_uri": "https://localhost:8080/",
          "height": 575
        },
        "id": "NKwHmA9T38jv",
        "outputId": "432c41ef-0e1c-4830-cec8-f5daa1cd367b"
      },
      "execution_count": null,
      "outputs": [
        {
          "output_type": "stream",
          "name": "stderr",
          "text": [
            "/usr/local/lib/python3.10/dist-packages/sklearn/cluster/_agglomerative.py:983: FutureWarning: Attribute `affinity` was deprecated in version 1.2 and will be removed in 1.4. Use `metric` instead\n",
            "  warnings.warn(\n"
          ]
        },
        {
          "output_type": "stream",
          "name": "stdout",
          "text": [
            "Rand Index for Single-Link Clustering: 0.004425756698610985\n",
            "Rand Index for Complete-Link Clustering: 0.07492944056133122\n",
            "Rand Index for Centroid Clustering: 0.5259978157284728\n",
            "Rand Index for GAAC Clustering: 0.010810618275614817\n",
            "Centroid Clustering performs the best.\n"
          ]
        },
        {
          "output_type": "display_data",
          "data": {
            "text/plain": [
              "<Figure size 640x480 with 1 Axes>"
            ],
            "image/png": "[encoded data removed]"
          },
          "metadata": {}
        }
      ]
    },
    {
      "cell_type": "code",
      "source": [],
      "metadata": {
        "id": "d-0gWrobVUPe"
      },
      "execution_count": null,
      "outputs": []
    }
  ]
}